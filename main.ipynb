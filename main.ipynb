{
 "cells": [
  {
   "cell_type": "markdown",
   "metadata": {},
   "source": [
    "# Projeto Preparação de Dados e KNN\n",
    "### CMC-13 Introdução a Ciência de Dados\n",
    "\n",
    "### Alunos:\n",
    "- **João Pedro Couto Vieira**\n",
    "- **Pedro de Oliveira Ramos**\n",
    "- **Rafael Duarte Rocha**\n",
    "- **Vinícius Camelo**"
   ]
  },
  {
   "cell_type": "markdown",
   "metadata": {},
   "source": [
    "---\n",
    "## Descrição do Trabalho\n",
    "O dataset inclui avaliações de livros (0 a 10) feitas por vários usuários. Os dados estão divididos em três arquivos de dados tipo csv (comma separated values) tal como descrito abaixo. Os atributos de cada arquivo são os seguintes:\n",
    "\n",
    "Arquivo sobre **usuário** ($users.csv$) com 20.702 usuários\n",
    "\n",
    "\n",
    "* ```user_id``` : identificador do usuário (numérico)\n",
    "\n",
    "* ```age```,: idade do usuário\n",
    "\n",
    "* ```city```: Cidade do usuário (identificado por user_id)\n",
    "\n",
    "* ```state```: Estado do usuário\n",
    "\n",
    "* ```country```: País do usuário\n",
    "\n",
    "Arquivo sobre **Livro** ($books.csv$) com 1.024 livros\n",
    "\n",
    "\n",
    "* ```isbn``` : identificador do livro\n",
    "\n",
    "* ```book_title``` - Título do livro em inglês,\n",
    "\n",
    "* ```book_author```: Nome do autor do livro\n",
    "\n",
    "* ```year_of_publication``` : Ano de publicação do livro\n",
    "\n",
    "* ```publisher```,: Editora\n",
    "\n",
    "* ```img_l```: Link para imagem de capa do livro\n",
    "\n",
    "* ```Language```: Idioma no qual foi escrito o livro\n",
    "\n",
    "* ```Category```: Tipo de livro, observe que um livro pode pertencer a mais de um tipo (string)\n",
    "\n",
    "Arquivo de **Avaliação** ($ratings.csv$) com 163.974 avaliações\n",
    "\n",
    "\n",
    "* ```isbn``` : identificador do livro\n",
    "\n",
    "* ```user_id``` : identificador do usuário que fez a avaliação (numérico)\n",
    "\n",
    "* ```rating```: avaliação do livro dado pelo usuário (0 a 10)"
   ]
  },
  {
   "cell_type": "code",
   "execution_count": 6,
   "metadata": {},
   "outputs": [],
   "source": [
    "import pandas as pd\n",
    "import numpy as np\n",
    "from sklearn.model_selection import train_test_split\n",
    "\n",
    "# Load data\n",
    "books = pd.read_csv(\"books.csv\", delimiter=\";\")\n",
    "users = pd.read_csv(\"users.csv\", delimiter=\";\")\n",
    "ratings = pd.read_csv(\"ratings.csv\", delimiter=\";\")"
   ]
  },
  {
   "cell_type": "code",
   "execution_count": 7,
   "metadata": {},
   "outputs": [
    {
     "name": "stdout",
     "output_type": "stream",
     "text": [
      "<class 'pandas.core.frame.DataFrame'>\n",
      "Index: 163974 entries, 0 to 87424\n",
      "Data columns (total 14 columns):\n",
      " #   Column               Non-Null Count   Dtype  \n",
      "---  ------               --------------   -----  \n",
      " 0   isbn                 163974 non-null  object \n",
      " 1   user_id              163974 non-null  int64  \n",
      " 2   rating               163974 non-null  int64  \n",
      " 3   age                  20702 non-null   float64\n",
      " 4   city                 20680 non-null   object \n",
      " 5   state                20392 non-null   object \n",
      " 6   country              20037 non-null   object \n",
      " 7   book_title           163974 non-null  object \n",
      " 8   book_author          163974 non-null  object \n",
      " 9   year_of_publication  163974 non-null  float64\n",
      " 10  publisher            163974 non-null  object \n",
      " 11  img_l                163974 non-null  object \n",
      " 12  Language             163974 non-null  object \n",
      " 13  Category             163974 non-null  object \n",
      "dtypes: float64(2), int64(2), object(10)\n",
      "memory usage: 18.8+ MB\n"
     ]
    }
   ],
   "source": [
    "# Join data in a single dataset\n",
    "dataset = (\n",
    "    ratings.join(users.set_index(\"user_id\"), on=\"user_id\")\n",
    "    .join(books.set_index(\"isbn\"), on=\"isbn\")\n",
    "    .sort_values(by=\"user_id\")\n",
    ")\n",
    "\n",
    "dataset.info()"
   ]
  },
  {
   "cell_type": "markdown",
   "metadata": {},
   "source": [
    "Após a união dos dataframes, ficamos com as seguintes colunas: \n",
    "\n",
    "```isbn```, ```user_id```, ```rating```, ```age```, ```city```, ```state```, ```country```, ```book_title```, ```book_author```, ```year_of_publication```, ```publisher```, ```img_l```, ```Language```, ```Category```\n"
   ]
  },
  {
   "cell_type": "markdown",
   "metadata": {},
   "source": [
    "Para nossa análise, é importante mantermos atributos que possam ser comparáveis e descartar informações que são extremamente personalizadas. Para nosso objetivo de classificação via KNN, precisamos manter atributos que sirvam minimamente para a formação de clusters.\n",
    "\n",
    "Assim, por essa lógica, podemos descartar imediatamente ```user_id``` e ```isbn``` que são identificadores únicos.\n",
    "\n",
    "Além disso, podemos descartar os atributos de ```city```, ```state```. Estas podem ser úteis para algumas análises cujo tema geográfico é relevante, mas para a nossa análise, não é o caso.\n",
    "\n",
    "Não estamos trabalhando com capa do livro como um atributo relevante, então podemos descartar ```img_l```.\n",
    "\n",
    "Percebemos que os atributos de ```age``` e ```country``` apresentam muitas informações faltantes, então optamos por descartá-los.\n",
    "\n",
    "Nos resta, então, os atributos de ```rating```, ```book_title```, ```book_author```, ```year_of_publication```, ```publisher```, ```Language```, ```Category```."
   ]
  },
  {
   "cell_type": "code",
   "execution_count": 8,
   "metadata": {},
   "outputs": [
    {
     "name": "stdout",
     "output_type": "stream",
     "text": [
      "<class 'pandas.core.frame.DataFrame'>\n",
      "Index: 163974 entries, 0 to 87424\n",
      "Data columns (total 7 columns):\n",
      " #   Column               Non-Null Count   Dtype  \n",
      "---  ------               --------------   -----  \n",
      " 0   rating               163974 non-null  int64  \n",
      " 1   book_title           163974 non-null  object \n",
      " 2   book_author          163974 non-null  object \n",
      " 3   year_of_publication  163974 non-null  float64\n",
      " 4   publisher            163974 non-null  object \n",
      " 5   Language             163974 non-null  object \n",
      " 6   Category             163974 non-null  object \n",
      "dtypes: float64(1), int64(1), object(5)\n",
      "memory usage: 10.0+ MB\n"
     ]
    }
   ],
   "source": [
    "dataset = dataset.drop(columns=[\"user_id\", \"isbn\", \"city\", \"state\", \"img_l\", \"age\", \"country\"])\n",
    "dataset.info()"
   ]
  },
  {
   "cell_type": "code",
   "execution_count": null,
   "metadata": {},
   "outputs": [],
   "source": []
  }
 ],
 "metadata": {
  "kernelspec": {
   "display_name": "Python 3",
   "language": "python",
   "name": "python3"
  },
  "language_info": {
   "codemirror_mode": {
    "name": "ipython",
    "version": 3
   },
   "file_extension": ".py",
   "mimetype": "text/x-python",
   "name": "python",
   "nbconvert_exporter": "python",
   "pygments_lexer": "ipython3",
   "version": "3.12.1"
  }
 },
 "nbformat": 4,
 "nbformat_minor": 2
}
